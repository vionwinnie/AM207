{
 "cells": [
  {
   "cell_type": "markdown",
   "metadata": {},
   "source": [
    "## Homework1"
   ]
  },
  {
   "cell_type": "markdown",
   "metadata": {},
   "source": [
    "## Problem 1\n",
    "### Part A(1):\n",
    "\n",
    "Should your child test positive, what is the probability that he/she has Type I diabetes?"
   ]
  },
  {
   "cell_type": "markdown",
   "metadata": {},
   "source": [
    "P(Test Positive|Does not have Diabetes) = 0.01\n"
   ]
  },
  {
   "cell_type": "markdown",
   "metadata": {},
   "source": [
    "P(Test False|Has Diabetes) = 0.00"
   ]
  },
  {
   "cell_type": "markdown",
   "metadata": {},
   "source": [
    "P (Has Diabetes) = 0.00228"
   ]
  },
  {
   "cell_type": "markdown",
   "metadata": {},
   "source": [
    "P(Has Diabetes | Test Positive) \n",
    "= P(Test Positive | Has Diabetes) P(Has Diabetes)/ "
   ]
  },
  {
   "cell_type": "markdown",
   "metadata": {},
   "source": [
    "\n",
    "((P(Has Diabetes)*P(Test Positive| Has Diabetes) + P(Does not have diabetes) *P(Test Positive | Does not have diabetes))"
   ]
  },
  {
   "cell_type": "code",
   "execution_count": 7,
   "metadata": {
    "collapsed": false,
    "scrolled": false
   },
   "outputs": [
    {
     "data": {
      "text/plain": [
       "0.18601311881995888"
      ]
     },
     "execution_count": 7,
     "metadata": {},
     "output_type": "execute_result"
    }
   ],
   "source": [
    "(1-0)*0.00228 / ((0.00228*1)+(1-0.00228)*0.01)"
   ]
  },
  {
   "cell_type": "markdown",
   "metadata": {},
   "source": [
    "**Answer:** The probability that he/she has diabetes is 0.186, which is quite low and deserves further testing for confirmation."
   ]
  },
  {
   "cell_type": "markdown",
   "metadata": {},
   "source": [
    "### Part A(2):\n",
    "Later, you read online that Type I diabetes is 6 times more prevalent in prematurely born children. If this statistic is true, what is the probability that your child, who is prematurely born, has Type I diabetes?"
   ]
  },
  {
   "cell_type": "markdown",
   "metadata": {},
   "source": [
    "The prevalence rate has changed to this: P(Has Diabetes | First Born) = 0.00228*6 = 0.01368"
   ]
  },
  {
   "cell_type": "markdown",
   "metadata": {},
   "source": [
    "The calculation for the P(Has Diabetes | Test Positive) is still the same:"
   ]
  },
  {
   "cell_type": "markdown",
   "metadata": {},
   "source": [
    "P(Has Diabetes | Test Positive) = P(Test Positive | Has Diabetes) P(Has Diabetes)/ "
   ]
  },
  {
   "cell_type": "markdown",
   "metadata": {},
   "source": [
    "((P(Has Diabetes)P(Test Positive| Has Diabetes) + P(Does not have diabetes) P(Test Positive | Does not have diabetes))"
   ]
  },
  {
   "cell_type": "code",
   "execution_count": 6,
   "metadata": {
    "collapsed": false
   },
   "outputs": [
    {
     "data": {
      "text/plain": [
       "0.5810594991335077"
      ]
     },
     "execution_count": 6,
     "metadata": {},
     "output_type": "execute_result"
    }
   ],
   "source": [
    "(1-0)*0.01368 / ((0.01368*1)+(1-0.01368)*0.01)"
   ]
  },
  {
   "cell_type": "markdown",
   "metadata": {},
   "source": [
    "**Answer:** Given the child is first-born, the probability that he/she has diabetes if tested positive is 0.581. I would probably not request further testing in this scenario and believe that he/she actually has diabetes."
   ]
  },
  {
   "cell_type": "markdown",
   "metadata": {},
   "source": [
    "### Part B:\n",
    "\n",
    "Based on this evidence, what is the probability that Class A has the harsher grading system? "
   ]
  },
  {
   "cell_type": "markdown",
   "metadata": {},
   "source": [
    "P(Lower Grade| In Harsher Class) = 0.35"
   ]
  },
  {
   "cell_type": "markdown",
   "metadata": {},
   "source": [
    "P(Lower Grade | Not in Harsher Class) = 0.15"
   ]
  },
  {
   "cell_type": "markdown",
   "metadata": {},
   "source": [
    "P(In Harsher Class | Lower Grade) = P(Lower Grade | In Harsher Class) P(Harsher Class)/ "
   ]
  },
  {
   "cell_type": "markdown",
   "metadata": {},
   "source": [
    "(P(Lower Grade| In Harsher Class) P(Harsher Class)+P(Lower Grade| Not in Harsher Class) P(Not in Harsher Class)) "
   ]
  },
  {
   "cell_type": "code",
   "execution_count": 9,
   "metadata": {
    "collapsed": false
   },
   "outputs": [
    {
     "data": {
      "text/plain": [
       "0.7"
      ]
     },
     "execution_count": 9,
     "metadata": {},
     "output_type": "execute_result"
    }
   ],
   "source": [
    "(0.35)*0.5 / ((0.35*0.5)+(0.15*0.5))"
   ]
  },
  {
   "cell_type": "markdown",
   "metadata": {},
   "source": [
    "**Answer:** The probability that class A has the harsher grading system is 0.7. Based on the result, I would drop class A. "
   ]
  },
  {
   "cell_type": "markdown",
   "metadata": {},
   "source": [
    "## Problem 2: MLE"
   ]
  },
  {
   "cell_type": "markdown",
   "metadata": {},
   "source": [
    "The pdf from the question is this:"
   ]
  },
  {
   "cell_type": "markdown",
   "metadata": {},
   "source": [
    "$$\n",
    "f_X(\\mathbf{x}) =  4\\lambda_1^2 x_{1}x_{2} \\mathrm{exp} \\left\\{-\\lambda_0 (x^2_{1} + x^2_{2}) \\right\\}\n",
    "$$"
   ]
  },
  {
   "cell_type": "markdown",
   "metadata": {},
   "source": [
    "To normalize the pdf, we integrate the pdf with the support of x1 and x2. "
   ]
  },
  {
   "cell_type": "markdown",
   "metadata": {},
   "source": [
    "$$ \\int_0^\\infty \\int_0^\\infty 4\\lambda_1^2 x_{1}x_{2} \\mathrm{exp} \\left\\{-\\lambda_0 (x^2_{1} + x^2_{2}) \\right\\}\\mathrm{d}x_{1}\\mathrm{d}x_{2} = 1$$"
   ]
  },
  {
   "cell_type": "markdown",
   "metadata": {},
   "source": [
    "$$ \\int_0^\\infty 2\\lambda_1^2 x_{1} \\mathrm{exp} \\left\\{-\\lambda_0 (x^2_{1}) \\right\\} \\left.\\mathrm{exp} \\left\\{-\\lambda_0 (x^2_{2}) \\right\\}\\right|_0^\\infty \\left(\\frac{1}{-\\lambda_0}\\right)\\mathrm{d}x_{1} =1 $$"
   ]
  },
  {
   "cell_type": "markdown",
   "metadata": {},
   "source": [
    "$$ \\left(\\frac{1}{-\\lambda_0}\\right)\\left(\\frac{1}{-\\lambda_0}\\right)\\left.\\mathrm{exp} \\left\\{-\\lambda_0 (x^2_{1}) \\right\\}\\right|_0^\\infty = 1$$"
   ]
  },
  {
   "cell_type": "markdown",
   "metadata": {},
   "source": [
    "$$ \\left(\\frac{\\lambda_1}{\\lambda^2_0}\\right) =1 $$"
   ]
  },
  {
   "cell_type": "markdown",
   "metadata": {},
   "source": [
    "$$ \\lambda_1 = \\lambda^2_0                ............ eq(1)$$"
   ]
  },
  {
   "cell_type": "markdown",
   "metadata": {},
   "source": [
    "Looking at the MLE equation:"
   ]
  },
  {
   "cell_type": "markdown",
   "metadata": {},
   "source": [
    " $$ L(\\lambda_0, \\lambda_1) = \\prod_{i=0}^3 P(x_i \\mid \\lambda_0,\\lambda_1 )$$"
   ]
  },
  {
   "cell_type": "markdown",
   "metadata": {},
   "source": [
    "Taking the log of it:"
   ]
  },
  {
   "cell_type": "markdown",
   "metadata": {},
   "source": [
    "$$\\ell(\\lambda) = ln(P(x_0 \\mid \\lambda))+ ln(P(x_1 \\mid \\lambda))+ln(P(x_2 \\mid \\lambda))+ln(P(x_3 \\mid \\lambda))$$"
   ]
  },
  {
   "cell_type": "markdown",
   "metadata": {},
   "source": [
    "Taking the log of each pdf function: $$ln(P(x_n \\mid \\lambda))= ln 4 + 2 ln \\lambda_1 + ln x_{n,1} + ln x_{n,2} - \\lambda_0 (x^2_{n,1} + x^2_{n,2})$$"
   ]
  },
  {
   "cell_type": "markdown",
   "metadata": {},
   "source": [
    "Applying the equation for x0,x1,x2,x3 and rearrange the terms gives us the following equations:"
   ]
  },
  {
   "cell_type": "markdown",
   "metadata": {},
   "source": [
    "$$ \\ell(\\lambda) = 4ln 4 + 8 ln \\lambda_1 + ln x_{0,1} + ln x_{0,2} + ln  x_{1,1} + ln  x_{1,2}+ ln  x_{2,1} + ln  x_{2,2}+ ln  x_{3,1} + ln  x_{3,2}- \\lambda_0 [(x^2_{0,1} + x^2_{0,2}) + (x^2_{1,1} + x^2_{1,2})+(x^2_{2,1} + x^2_{2,2})+(x^2_{3,1} + x^2_{3,2})]$$"
   ]
  },
  {
   "cell_type": "markdown",
   "metadata": {},
   "source": [
    "Plugging in vectors x0,x1,x2,x3 into the equation: $\\mathbf{x}^{(0)} = (0.5, 2.5), \\mathbf{x}^{(1)} = (3.2, 1.3), \\mathbf{x}^{(2)} = (2.72, 5.84), \\mathbf{x}^{(3)}= (10.047, 0.354)$"
   ]
  },
  {
   "cell_type": "markdown",
   "metadata": {},
   "source": [
    "Let $$[(0.5^2 + 2.5^2) + (3.2^2 +1.3^2)+ (2.72^2+5.84^2) +(10.047^2 +0.354^2))] = m $$"
   ]
  },
  {
   "cell_type": "code",
   "execution_count": 22,
   "metadata": {
    "collapsed": false
   },
   "outputs": [
    {
     "data": {
      "text/plain": [
       "161.00152500000002"
      ]
     },
     "execution_count": 22,
     "metadata": {},
     "output_type": "execute_result"
    }
   ],
   "source": [
    "(0.5**2 + 2.5**2) + (3.2**2 +1.3**2)+ (2.72**2+5.84**2) +(10.047**2 +0.354**2)"
   ]
  },
  {
   "cell_type": "markdown",
   "metadata": {},
   "source": [
    "Let $$ ln 0.5 + ln 2.5 + ln  3.2 + ln  1.3+ ln  2.72 + ln  5.84+ ln  10.047 + ln  0.354 = q $$"
   ]
  },
  {
   "cell_type": "markdown",
   "metadata": {},
   "source": [
    "$$ \\ell(\\lambda) = 4ln 4 + 8 ln \\lambda_1 + q - m  \\lambda_0 $$"
   ]
  },
  {
   "cell_type": "markdown",
   "metadata": {},
   "source": [
    "Substitute eq(1) into $$ \\ell(\\lambda) $$ :"
   ]
  },
  {
   "cell_type": "markdown",
   "metadata": {},
   "source": [
    "$$ \\ell(\\lambda) = 4ln 4 + 16 ln \\lambda_0 + q - m  \\lambda_0 $$"
   ]
  },
  {
   "cell_type": "markdown",
   "metadata": {},
   "source": [
    "Maximising it:"
   ]
  },
  {
   "cell_type": "markdown",
   "metadata": {},
   "source": [
    "$$\\frac{d\\ell}{d\\lambda_0} = \\frac{16}{\\lambda_0} - m = 0$$"
   ]
  },
  {
   "cell_type": "markdown",
   "metadata": {},
   "source": [
    "$$ \\lambda_0 = \\frac{16}{m} $$"
   ]
  },
  {
   "cell_type": "code",
   "execution_count": 24,
   "metadata": {
    "collapsed": false
   },
   "outputs": [
    {
     "data": {
      "text/plain": [
       "0.09937794067478553"
      ]
     },
     "execution_count": 24,
     "metadata": {},
     "output_type": "execute_result"
    }
   ],
   "source": [
    "16 / 161.00152500000002"
   ]
  },
  {
   "cell_type": "code",
   "execution_count": 25,
   "metadata": {
    "collapsed": false
   },
   "outputs": [
    {
     "data": {
      "text/plain": [
       "0.009875975092761193"
      ]
     },
     "execution_count": 25,
     "metadata": {},
     "output_type": "execute_result"
    }
   ],
   "source": [
    "0.09937794067478553**2"
   ]
  },
  {
   "cell_type": "markdown",
   "metadata": {},
   "source": [
    "** Answer ** The estimated MLE parameters are as followed: $$ \\lambda_0 = 0.0994 ,\\lambda_1 = 0.00988 $$"
   ]
  },
  {
   "cell_type": "markdown",
   "metadata": {},
   "source": [
    "### Part(B)\n",
    "Visualize the data along with the distribution you determined in part A (in two dimensions or three)."
   ]
  },
  {
   "cell_type": "code",
   "execution_count": 43,
   "metadata": {
    "collapsed": false
   },
   "outputs": [
    {
     "data": {
      "application/javascript": [
       "/* Put everything inside the global mpl namespace */\n",
       "window.mpl = {};\n",
       "\n",
       "mpl.get_websocket_type = function() {\n",
       "    if (typeof(WebSocket) !== 'undefined') {\n",
       "        return WebSocket;\n",
       "    } else if (typeof(MozWebSocket) !== 'undefined') {\n",
       "        return MozWebSocket;\n",
       "    } else {\n",
       "        alert('Your browser does not have WebSocket support.' +\n",
       "              'Please try Chrome, Safari or Firefox ≥ 6. ' +\n",
       "              'Firefox 4 and 5 are also supported but you ' +\n",
       "              'have to enable WebSockets in about:config.');\n",
       "    };\n",
       "}\n",
       "\n",
       "mpl.figure = function(figure_id, websocket, ondownload, parent_element) {\n",
       "    this.id = figure_id;\n",
       "\n",
       "    this.ws = websocket;\n",
       "\n",
       "    this.supports_binary = (this.ws.binaryType != undefined);\n",
       "\n",
       "    if (!this.supports_binary) {\n",
       "        var warnings = document.getElementById(\"mpl-warnings\");\n",
       "        if (warnings) {\n",
       "            warnings.style.display = 'block';\n",
       "            warnings.textContent = (\n",
       "                \"This browser does not support binary websocket messages. \" +\n",
       "                    \"Performance may be slow.\");\n",
       "        }\n",
       "    }\n",
       "\n",
       "    this.imageObj = new Image();\n",
       "\n",
       "    this.context = undefined;\n",
       "    this.message = undefined;\n",
       "    this.canvas = undefined;\n",
       "    this.rubberband_canvas = undefined;\n",
       "    this.rubberband_context = undefined;\n",
       "    this.format_dropdown = undefined;\n",
       "\n",
       "    this.image_mode = 'full';\n",
       "\n",
       "    this.root = $('<div/>');\n",
       "    this._root_extra_style(this.root)\n",
       "    this.root.attr('style', 'display: inline-block');\n",
       "\n",
       "    $(parent_element).append(this.root);\n",
       "\n",
       "    this._init_header(this);\n",
       "    this._init_canvas(this);\n",
       "    this._init_toolbar(this);\n",
       "\n",
       "    var fig = this;\n",
       "\n",
       "    this.waiting = false;\n",
       "\n",
       "    this.ws.onopen =  function () {\n",
       "            fig.send_message(\"supports_binary\", {value: fig.supports_binary});\n",
       "            fig.send_message(\"send_image_mode\", {});\n",
       "            fig.send_message(\"refresh\", {});\n",
       "        }\n",
       "\n",
       "    this.imageObj.onload = function() {\n",
       "            if (fig.image_mode == 'full') {\n",
       "                // Full images could contain transparency (where diff images\n",
       "                // almost always do), so we need to clear the canvas so that\n",
       "                // there is no ghosting.\n",
       "                fig.context.clearRect(0, 0, fig.canvas.width, fig.canvas.height);\n",
       "            }\n",
       "            fig.context.drawImage(fig.imageObj, 0, 0);\n",
       "        };\n",
       "\n",
       "    this.imageObj.onunload = function() {\n",
       "        this.ws.close();\n",
       "    }\n",
       "\n",
       "    this.ws.onmessage = this._make_on_message_function(this);\n",
       "\n",
       "    this.ondownload = ondownload;\n",
       "}\n",
       "\n",
       "mpl.figure.prototype._init_header = function() {\n",
       "    var titlebar = $(\n",
       "        '<div class=\"ui-dialog-titlebar ui-widget-header ui-corner-all ' +\n",
       "        'ui-helper-clearfix\"/>');\n",
       "    var titletext = $(\n",
       "        '<div class=\"ui-dialog-title\" style=\"width: 100%; ' +\n",
       "        'text-align: center; padding: 3px;\"/>');\n",
       "    titlebar.append(titletext)\n",
       "    this.root.append(titlebar);\n",
       "    this.header = titletext[0];\n",
       "}\n",
       "\n",
       "\n",
       "\n",
       "mpl.figure.prototype._canvas_extra_style = function(canvas_div) {\n",
       "\n",
       "}\n",
       "\n",
       "\n",
       "mpl.figure.prototype._root_extra_style = function(canvas_div) {\n",
       "\n",
       "}\n",
       "\n",
       "mpl.figure.prototype._init_canvas = function() {\n",
       "    var fig = this;\n",
       "\n",
       "    var canvas_div = $('<div/>');\n",
       "\n",
       "    canvas_div.attr('style', 'position: relative; clear: both; outline: 0');\n",
       "\n",
       "    function canvas_keyboard_event(event) {\n",
       "        return fig.key_event(event, event['data']);\n",
       "    }\n",
       "\n",
       "    canvas_div.keydown('key_press', canvas_keyboard_event);\n",
       "    canvas_div.keyup('key_release', canvas_keyboard_event);\n",
       "    this.canvas_div = canvas_div\n",
       "    this._canvas_extra_style(canvas_div)\n",
       "    this.root.append(canvas_div);\n",
       "\n",
       "    var canvas = $('<canvas/>');\n",
       "    canvas.addClass('mpl-canvas');\n",
       "    canvas.attr('style', \"left: 0; top: 0; z-index: 0; outline: 0\")\n",
       "\n",
       "    this.canvas = canvas[0];\n",
       "    this.context = canvas[0].getContext(\"2d\");\n",
       "\n",
       "    var rubberband = $('<canvas/>');\n",
       "    rubberband.attr('style', \"position: absolute; left: 0; top: 0; z-index: 1;\")\n",
       "\n",
       "    var pass_mouse_events = true;\n",
       "\n",
       "    canvas_div.resizable({\n",
       "        start: function(event, ui) {\n",
       "            pass_mouse_events = false;\n",
       "        },\n",
       "        resize: function(event, ui) {\n",
       "            fig.request_resize(ui.size.width, ui.size.height);\n",
       "        },\n",
       "        stop: function(event, ui) {\n",
       "            pass_mouse_events = true;\n",
       "            fig.request_resize(ui.size.width, ui.size.height);\n",
       "        },\n",
       "    });\n",
       "\n",
       "    function mouse_event_fn(event) {\n",
       "        if (pass_mouse_events)\n",
       "            return fig.mouse_event(event, event['data']);\n",
       "    }\n",
       "\n",
       "    rubberband.mousedown('button_press', mouse_event_fn);\n",
       "    rubberband.mouseup('button_release', mouse_event_fn);\n",
       "    // Throttle sequential mouse events to 1 every 20ms.\n",
       "    rubberband.mousemove('motion_notify', mouse_event_fn);\n",
       "\n",
       "    rubberband.mouseenter('figure_enter', mouse_event_fn);\n",
       "    rubberband.mouseleave('figure_leave', mouse_event_fn);\n",
       "\n",
       "    canvas_div.on(\"wheel\", function (event) {\n",
       "        event = event.originalEvent;\n",
       "        event['data'] = 'scroll'\n",
       "        if (event.deltaY < 0) {\n",
       "            event.step = 1;\n",
       "        } else {\n",
       "            event.step = -1;\n",
       "        }\n",
       "        mouse_event_fn(event);\n",
       "    });\n",
       "\n",
       "    canvas_div.append(canvas);\n",
       "    canvas_div.append(rubberband);\n",
       "\n",
       "    this.rubberband = rubberband;\n",
       "    this.rubberband_canvas = rubberband[0];\n",
       "    this.rubberband_context = rubberband[0].getContext(\"2d\");\n",
       "    this.rubberband_context.strokeStyle = \"#000000\";\n",
       "\n",
       "    this._resize_canvas = function(width, height) {\n",
       "        // Keep the size of the canvas, canvas container, and rubber band\n",
       "        // canvas in synch.\n",
       "        canvas_div.css('width', width)\n",
       "        canvas_div.css('height', height)\n",
       "\n",
       "        canvas.attr('width', width);\n",
       "        canvas.attr('height', height);\n",
       "\n",
       "        rubberband.attr('width', width);\n",
       "        rubberband.attr('height', height);\n",
       "    }\n",
       "\n",
       "    // Set the figure to an initial 600x600px, this will subsequently be updated\n",
       "    // upon first draw.\n",
       "    this._resize_canvas(600, 600);\n",
       "\n",
       "    // Disable right mouse context menu.\n",
       "    $(this.rubberband_canvas).bind(\"contextmenu\",function(e){\n",
       "        return false;\n",
       "    });\n",
       "\n",
       "    function set_focus () {\n",
       "        canvas.focus();\n",
       "        canvas_div.focus();\n",
       "    }\n",
       "\n",
       "    window.setTimeout(set_focus, 100);\n",
       "}\n",
       "\n",
       "mpl.figure.prototype._init_toolbar = function() {\n",
       "    var fig = this;\n",
       "\n",
       "    var nav_element = $('<div/>')\n",
       "    nav_element.attr('style', 'width: 100%');\n",
       "    this.root.append(nav_element);\n",
       "\n",
       "    // Define a callback function for later on.\n",
       "    function toolbar_event(event) {\n",
       "        return fig.toolbar_button_onclick(event['data']);\n",
       "    }\n",
       "    function toolbar_mouse_event(event) {\n",
       "        return fig.toolbar_button_onmouseover(event['data']);\n",
       "    }\n",
       "\n",
       "    for(var toolbar_ind in mpl.toolbar_items) {\n",
       "        var name = mpl.toolbar_items[toolbar_ind][0];\n",
       "        var tooltip = mpl.toolbar_items[toolbar_ind][1];\n",
       "        var image = mpl.toolbar_items[toolbar_ind][2];\n",
       "        var method_name = mpl.toolbar_items[toolbar_ind][3];\n",
       "\n",
       "        if (!name) {\n",
       "            // put a spacer in here.\n",
       "            continue;\n",
       "        }\n",
       "        var button = $('<button/>');\n",
       "        button.addClass('ui-button ui-widget ui-state-default ui-corner-all ' +\n",
       "                        'ui-button-icon-only');\n",
       "        button.attr('role', 'button');\n",
       "        button.attr('aria-disabled', 'false');\n",
       "        button.click(method_name, toolbar_event);\n",
       "        button.mouseover(tooltip, toolbar_mouse_event);\n",
       "\n",
       "        var icon_img = $('<span/>');\n",
       "        icon_img.addClass('ui-button-icon-primary ui-icon');\n",
       "        icon_img.addClass(image);\n",
       "        icon_img.addClass('ui-corner-all');\n",
       "\n",
       "        var tooltip_span = $('<span/>');\n",
       "        tooltip_span.addClass('ui-button-text');\n",
       "        tooltip_span.html(tooltip);\n",
       "\n",
       "        button.append(icon_img);\n",
       "        button.append(tooltip_span);\n",
       "\n",
       "        nav_element.append(button);\n",
       "    }\n",
       "\n",
       "    var fmt_picker_span = $('<span/>');\n",
       "\n",
       "    var fmt_picker = $('<select/>');\n",
       "    fmt_picker.addClass('mpl-toolbar-option ui-widget ui-widget-content');\n",
       "    fmt_picker_span.append(fmt_picker);\n",
       "    nav_element.append(fmt_picker_span);\n",
       "    this.format_dropdown = fmt_picker[0];\n",
       "\n",
       "    for (var ind in mpl.extensions) {\n",
       "        var fmt = mpl.extensions[ind];\n",
       "        var option = $(\n",
       "            '<option/>', {selected: fmt === mpl.default_extension}).html(fmt);\n",
       "        fmt_picker.append(option)\n",
       "    }\n",
       "\n",
       "    // Add hover states to the ui-buttons\n",
       "    $( \".ui-button\" ).hover(\n",
       "        function() { $(this).addClass(\"ui-state-hover\");},\n",
       "        function() { $(this).removeClass(\"ui-state-hover\");}\n",
       "    );\n",
       "\n",
       "    var status_bar = $('<span class=\"mpl-message\"/>');\n",
       "    nav_element.append(status_bar);\n",
       "    this.message = status_bar[0];\n",
       "}\n",
       "\n",
       "mpl.figure.prototype.request_resize = function(x_pixels, y_pixels) {\n",
       "    // Request matplotlib to resize the figure. Matplotlib will then trigger a resize in the client,\n",
       "    // which will in turn request a refresh of the image.\n",
       "    this.send_message('resize', {'width': x_pixels, 'height': y_pixels});\n",
       "}\n",
       "\n",
       "mpl.figure.prototype.send_message = function(type, properties) {\n",
       "    properties['type'] = type;\n",
       "    properties['figure_id'] = this.id;\n",
       "    this.ws.send(JSON.stringify(properties));\n",
       "}\n",
       "\n",
       "mpl.figure.prototype.send_draw_message = function() {\n",
       "    if (!this.waiting) {\n",
       "        this.waiting = true;\n",
       "        this.ws.send(JSON.stringify({type: \"draw\", figure_id: this.id}));\n",
       "    }\n",
       "}\n",
       "\n",
       "\n",
       "mpl.figure.prototype.handle_save = function(fig, msg) {\n",
       "    var format_dropdown = fig.format_dropdown;\n",
       "    var format = format_dropdown.options[format_dropdown.selectedIndex].value;\n",
       "    fig.ondownload(fig, format);\n",
       "}\n",
       "\n",
       "\n",
       "mpl.figure.prototype.handle_resize = function(fig, msg) {\n",
       "    var size = msg['size'];\n",
       "    if (size[0] != fig.canvas.width || size[1] != fig.canvas.height) {\n",
       "        fig._resize_canvas(size[0], size[1]);\n",
       "        fig.send_message(\"refresh\", {});\n",
       "    };\n",
       "}\n",
       "\n",
       "mpl.figure.prototype.handle_rubberband = function(fig, msg) {\n",
       "    var x0 = msg['x0'];\n",
       "    var y0 = fig.canvas.height - msg['y0'];\n",
       "    var x1 = msg['x1'];\n",
       "    var y1 = fig.canvas.height - msg['y1'];\n",
       "    x0 = Math.floor(x0) + 0.5;\n",
       "    y0 = Math.floor(y0) + 0.5;\n",
       "    x1 = Math.floor(x1) + 0.5;\n",
       "    y1 = Math.floor(y1) + 0.5;\n",
       "    var min_x = Math.min(x0, x1);\n",
       "    var min_y = Math.min(y0, y1);\n",
       "    var width = Math.abs(x1 - x0);\n",
       "    var height = Math.abs(y1 - y0);\n",
       "\n",
       "    fig.rubberband_context.clearRect(\n",
       "        0, 0, fig.canvas.width, fig.canvas.height);\n",
       "\n",
       "    fig.rubberband_context.strokeRect(min_x, min_y, width, height);\n",
       "}\n",
       "\n",
       "mpl.figure.prototype.handle_figure_label = function(fig, msg) {\n",
       "    // Updates the figure title.\n",
       "    fig.header.textContent = msg['label'];\n",
       "}\n",
       "\n",
       "mpl.figure.prototype.handle_cursor = function(fig, msg) {\n",
       "    var cursor = msg['cursor'];\n",
       "    switch(cursor)\n",
       "    {\n",
       "    case 0:\n",
       "        cursor = 'pointer';\n",
       "        break;\n",
       "    case 1:\n",
       "        cursor = 'default';\n",
       "        break;\n",
       "    case 2:\n",
       "        cursor = 'crosshair';\n",
       "        break;\n",
       "    case 3:\n",
       "        cursor = 'move';\n",
       "        break;\n",
       "    }\n",
       "    fig.rubberband_canvas.style.cursor = cursor;\n",
       "}\n",
       "\n",
       "mpl.figure.prototype.handle_message = function(fig, msg) {\n",
       "    fig.message.textContent = msg['message'];\n",
       "}\n",
       "\n",
       "mpl.figure.prototype.handle_draw = function(fig, msg) {\n",
       "    // Request the server to send over a new figure.\n",
       "    fig.send_draw_message();\n",
       "}\n",
       "\n",
       "mpl.figure.prototype.handle_image_mode = function(fig, msg) {\n",
       "    fig.image_mode = msg['mode'];\n",
       "}\n",
       "\n",
       "mpl.figure.prototype.updated_canvas_event = function() {\n",
       "    // Called whenever the canvas gets updated.\n",
       "    this.send_message(\"ack\", {});\n",
       "}\n",
       "\n",
       "// A function to construct a web socket function for onmessage handling.\n",
       "// Called in the figure constructor.\n",
       "mpl.figure.prototype._make_on_message_function = function(fig) {\n",
       "    return function socket_on_message(evt) {\n",
       "        if (evt.data instanceof Blob) {\n",
       "            /* FIXME: We get \"Resource interpreted as Image but\n",
       "             * transferred with MIME type text/plain:\" errors on\n",
       "             * Chrome.  But how to set the MIME type?  It doesn't seem\n",
       "             * to be part of the websocket stream */\n",
       "            evt.data.type = \"image/png\";\n",
       "\n",
       "            /* Free the memory for the previous frames */\n",
       "            if (fig.imageObj.src) {\n",
       "                (window.URL || window.webkitURL).revokeObjectURL(\n",
       "                    fig.imageObj.src);\n",
       "            }\n",
       "\n",
       "            fig.imageObj.src = (window.URL || window.webkitURL).createObjectURL(\n",
       "                evt.data);\n",
       "            fig.updated_canvas_event();\n",
       "            fig.waiting = false;\n",
       "            return;\n",
       "        }\n",
       "        else if (typeof evt.data === 'string' && evt.data.slice(0, 21) == \"data:image/png;base64\") {\n",
       "            fig.imageObj.src = evt.data;\n",
       "            fig.updated_canvas_event();\n",
       "            fig.waiting = false;\n",
       "            return;\n",
       "        }\n",
       "\n",
       "        var msg = JSON.parse(evt.data);\n",
       "        var msg_type = msg['type'];\n",
       "\n",
       "        // Call the  \"handle_{type}\" callback, which takes\n",
       "        // the figure and JSON message as its only arguments.\n",
       "        try {\n",
       "            var callback = fig[\"handle_\" + msg_type];\n",
       "        } catch (e) {\n",
       "            console.log(\"No handler for the '\" + msg_type + \"' message type: \", msg);\n",
       "            return;\n",
       "        }\n",
       "\n",
       "        if (callback) {\n",
       "            try {\n",
       "                // console.log(\"Handling '\" + msg_type + \"' message: \", msg);\n",
       "                callback(fig, msg);\n",
       "            } catch (e) {\n",
       "                console.log(\"Exception inside the 'handler_\" + msg_type + \"' callback:\", e, e.stack, msg);\n",
       "            }\n",
       "        }\n",
       "    };\n",
       "}\n",
       "\n",
       "// from http://stackoverflow.com/questions/1114465/getting-mouse-location-in-canvas\n",
       "mpl.findpos = function(e) {\n",
       "    //this section is from http://www.quirksmode.org/js/events_properties.html\n",
       "    var targ;\n",
       "    if (!e)\n",
       "        e = window.event;\n",
       "    if (e.target)\n",
       "        targ = e.target;\n",
       "    else if (e.srcElement)\n",
       "        targ = e.srcElement;\n",
       "    if (targ.nodeType == 3) // defeat Safari bug\n",
       "        targ = targ.parentNode;\n",
       "\n",
       "    // jQuery normalizes the pageX and pageY\n",
       "    // pageX,Y are the mouse positions relative to the document\n",
       "    // offset() returns the position of the element relative to the document\n",
       "    var x = e.pageX - $(targ).offset().left;\n",
       "    var y = e.pageY - $(targ).offset().top;\n",
       "\n",
       "    return {\"x\": x, \"y\": y};\n",
       "};\n",
       "\n",
       "/*\n",
       " * return a copy of an object with only non-object keys\n",
       " * we need this to avoid circular references\n",
       " * http://stackoverflow.com/a/24161582/3208463\n",
       " */\n",
       "function simpleKeys (original) {\n",
       "  return Object.keys(original).reduce(function (obj, key) {\n",
       "    if (typeof original[key] !== 'object')\n",
       "        obj[key] = original[key]\n",
       "    return obj;\n",
       "  }, {});\n",
       "}\n",
       "\n",
       "mpl.figure.prototype.mouse_event = function(event, name) {\n",
       "    var canvas_pos = mpl.findpos(event)\n",
       "\n",
       "    if (name === 'button_press')\n",
       "    {\n",
       "        this.canvas.focus();\n",
       "        this.canvas_div.focus();\n",
       "    }\n",
       "\n",
       "    var x = canvas_pos.x;\n",
       "    var y = canvas_pos.y;\n",
       "\n",
       "    this.send_message(name, {x: x, y: y, button: event.button,\n",
       "                             step: event.step,\n",
       "                             guiEvent: simpleKeys(event)});\n",
       "\n",
       "    /* This prevents the web browser from automatically changing to\n",
       "     * the text insertion cursor when the button is pressed.  We want\n",
       "     * to control all of the cursor setting manually through the\n",
       "     * 'cursor' event from matplotlib */\n",
       "    event.preventDefault();\n",
       "    return false;\n",
       "}\n",
       "\n",
       "mpl.figure.prototype._key_event_extra = function(event, name) {\n",
       "    // Handle any extra behaviour associated with a key event\n",
       "}\n",
       "\n",
       "mpl.figure.prototype.key_event = function(event, name) {\n",
       "\n",
       "    // Prevent repeat events\n",
       "    if (name == 'key_press')\n",
       "    {\n",
       "        if (event.which === this._key)\n",
       "            return;\n",
       "        else\n",
       "            this._key = event.which;\n",
       "    }\n",
       "    if (name == 'key_release')\n",
       "        this._key = null;\n",
       "\n",
       "    var value = '';\n",
       "    if (event.ctrlKey && event.which != 17)\n",
       "        value += \"ctrl+\";\n",
       "    if (event.altKey && event.which != 18)\n",
       "        value += \"alt+\";\n",
       "    if (event.shiftKey && event.which != 16)\n",
       "        value += \"shift+\";\n",
       "\n",
       "    value += 'k';\n",
       "    value += event.which.toString();\n",
       "\n",
       "    this._key_event_extra(event, name);\n",
       "\n",
       "    this.send_message(name, {key: value,\n",
       "                             guiEvent: simpleKeys(event)});\n",
       "    return false;\n",
       "}\n",
       "\n",
       "mpl.figure.prototype.toolbar_button_onclick = function(name) {\n",
       "    if (name == 'download') {\n",
       "        this.handle_save(this, null);\n",
       "    } else {\n",
       "        this.send_message(\"toolbar_button\", {name: name});\n",
       "    }\n",
       "};\n",
       "\n",
       "mpl.figure.prototype.toolbar_button_onmouseover = function(tooltip) {\n",
       "    this.message.textContent = tooltip;\n",
       "};\n",
       "mpl.toolbar_items = [[\"Home\", \"Reset original view\", \"fa fa-home icon-home\", \"home\"], [\"Back\", \"Back to  previous view\", \"fa fa-arrow-left icon-arrow-left\", \"back\"], [\"Forward\", \"Forward to next view\", \"fa fa-arrow-right icon-arrow-right\", \"forward\"], [\"\", \"\", \"\", \"\"], [\"Pan\", \"Pan axes with left mouse, zoom with right\", \"fa fa-arrows icon-move\", \"pan\"], [\"Zoom\", \"Zoom to rectangle\", \"fa fa-square-o icon-check-empty\", \"zoom\"], [\"\", \"\", \"\", \"\"], [\"Download\", \"Download plot\", \"fa fa-floppy-o icon-save\", \"download\"]];\n",
       "\n",
       "mpl.extensions = [\"eps\", \"jpeg\", \"pdf\", \"png\", \"ps\", \"raw\", \"svg\", \"tif\"];\n",
       "\n",
       "mpl.default_extension = \"png\";var comm_websocket_adapter = function(comm) {\n",
       "    // Create a \"websocket\"-like object which calls the given IPython comm\n",
       "    // object with the appropriate methods. Currently this is a non binary\n",
       "    // socket, so there is still some room for performance tuning.\n",
       "    var ws = {};\n",
       "\n",
       "    ws.close = function() {\n",
       "        comm.close()\n",
       "    };\n",
       "    ws.send = function(m) {\n",
       "        //console.log('sending', m);\n",
       "        comm.send(m);\n",
       "    };\n",
       "    // Register the callback with on_msg.\n",
       "    comm.on_msg(function(msg) {\n",
       "        //console.log('receiving', msg['content']['data'], msg);\n",
       "        // Pass the mpl event to the overriden (by mpl) onmessage function.\n",
       "        ws.onmessage(msg['content']['data'])\n",
       "    });\n",
       "    return ws;\n",
       "}\n",
       "\n",
       "mpl.mpl_figure_comm = function(comm, msg) {\n",
       "    // This is the function which gets called when the mpl process\n",
       "    // starts-up an IPython Comm through the \"matplotlib\" channel.\n",
       "\n",
       "    var id = msg.content.data.id;\n",
       "    // Get hold of the div created by the display call when the Comm\n",
       "    // socket was opened in Python.\n",
       "    var element = $(\"#\" + id);\n",
       "    var ws_proxy = comm_websocket_adapter(comm)\n",
       "\n",
       "    function ondownload(figure, format) {\n",
       "        window.open(figure.imageObj.src);\n",
       "    }\n",
       "\n",
       "    var fig = new mpl.figure(id, ws_proxy,\n",
       "                           ondownload,\n",
       "                           element.get(0));\n",
       "\n",
       "    // Call onopen now - mpl needs it, as it is assuming we've passed it a real\n",
       "    // web socket which is closed, not our websocket->open comm proxy.\n",
       "    ws_proxy.onopen();\n",
       "\n",
       "    fig.parent_element = element.get(0);\n",
       "    fig.cell_info = mpl.find_output_cell(\"<div id='\" + id + \"'></div>\");\n",
       "    if (!fig.cell_info) {\n",
       "        console.error(\"Failed to find cell for figure\", id, fig);\n",
       "        return;\n",
       "    }\n",
       "\n",
       "    var output_index = fig.cell_info[2]\n",
       "    var cell = fig.cell_info[0];\n",
       "\n",
       "};\n",
       "\n",
       "mpl.figure.prototype.handle_close = function(fig, msg) {\n",
       "    fig.root.unbind('remove')\n",
       "\n",
       "    // Update the output cell to use the data from the current canvas.\n",
       "    fig.push_to_output();\n",
       "    var dataURL = fig.canvas.toDataURL();\n",
       "    // Re-enable the keyboard manager in IPython - without this line, in FF,\n",
       "    // the notebook keyboard shortcuts fail.\n",
       "    IPython.keyboard_manager.enable()\n",
       "    $(fig.parent_element).html('<img src=\"' + dataURL + '\">');\n",
       "    fig.close_ws(fig, msg);\n",
       "}\n",
       "\n",
       "mpl.figure.prototype.close_ws = function(fig, msg){\n",
       "    fig.send_message('closing', msg);\n",
       "    // fig.ws.close()\n",
       "}\n",
       "\n",
       "mpl.figure.prototype.push_to_output = function(remove_interactive) {\n",
       "    // Turn the data on the canvas into data in the output cell.\n",
       "    var dataURL = this.canvas.toDataURL();\n",
       "    this.cell_info[1]['text/html'] = '<img src=\"' + dataURL + '\">';\n",
       "}\n",
       "\n",
       "mpl.figure.prototype.updated_canvas_event = function() {\n",
       "    // Tell IPython that the notebook contents must change.\n",
       "    IPython.notebook.set_dirty(true);\n",
       "    this.send_message(\"ack\", {});\n",
       "    var fig = this;\n",
       "    // Wait a second, then push the new image to the DOM so\n",
       "    // that it is saved nicely (might be nice to debounce this).\n",
       "    setTimeout(function () { fig.push_to_output() }, 1000);\n",
       "}\n",
       "\n",
       "mpl.figure.prototype._init_toolbar = function() {\n",
       "    var fig = this;\n",
       "\n",
       "    var nav_element = $('<div/>')\n",
       "    nav_element.attr('style', 'width: 100%');\n",
       "    this.root.append(nav_element);\n",
       "\n",
       "    // Define a callback function for later on.\n",
       "    function toolbar_event(event) {\n",
       "        return fig.toolbar_button_onclick(event['data']);\n",
       "    }\n",
       "    function toolbar_mouse_event(event) {\n",
       "        return fig.toolbar_button_onmouseover(event['data']);\n",
       "    }\n",
       "\n",
       "    for(var toolbar_ind in mpl.toolbar_items){\n",
       "        var name = mpl.toolbar_items[toolbar_ind][0];\n",
       "        var tooltip = mpl.toolbar_items[toolbar_ind][1];\n",
       "        var image = mpl.toolbar_items[toolbar_ind][2];\n",
       "        var method_name = mpl.toolbar_items[toolbar_ind][3];\n",
       "\n",
       "        if (!name) { continue; };\n",
       "\n",
       "        var button = $('<button class=\"btn btn-default\" href=\"#\" title=\"' + name + '\"><i class=\"fa ' + image + ' fa-lg\"></i></button>');\n",
       "        button.click(method_name, toolbar_event);\n",
       "        button.mouseover(tooltip, toolbar_mouse_event);\n",
       "        nav_element.append(button);\n",
       "    }\n",
       "\n",
       "    // Add the status bar.\n",
       "    var status_bar = $('<span class=\"mpl-message\" style=\"text-align:right; float: right;\"/>');\n",
       "    nav_element.append(status_bar);\n",
       "    this.message = status_bar[0];\n",
       "\n",
       "    // Add the close button to the window.\n",
       "    var buttongrp = $('<div class=\"btn-group inline pull-right\"></div>');\n",
       "    var button = $('<button class=\"btn btn-mini btn-primary\" href=\"#\" title=\"Stop Interaction\"><i class=\"fa fa-power-off icon-remove icon-large\"></i></button>');\n",
       "    button.click(function (evt) { fig.handle_close(fig, {}); } );\n",
       "    button.mouseover('Stop Interaction', toolbar_mouse_event);\n",
       "    buttongrp.append(button);\n",
       "    var titlebar = this.root.find($('.ui-dialog-titlebar'));\n",
       "    titlebar.prepend(buttongrp);\n",
       "}\n",
       "\n",
       "mpl.figure.prototype._root_extra_style = function(el){\n",
       "    var fig = this\n",
       "    el.on(\"remove\", function(){\n",
       "\tfig.close_ws(fig, {});\n",
       "    });\n",
       "}\n",
       "\n",
       "mpl.figure.prototype._canvas_extra_style = function(el){\n",
       "    // this is important to make the div 'focusable\n",
       "    el.attr('tabindex', 0)\n",
       "    // reach out to IPython and tell the keyboard manager to turn it's self\n",
       "    // off when our div gets focus\n",
       "\n",
       "    // location in version 3\n",
       "    if (IPython.notebook.keyboard_manager) {\n",
       "        IPython.notebook.keyboard_manager.register_events(el);\n",
       "    }\n",
       "    else {\n",
       "        // location in version 2\n",
       "        IPython.keyboard_manager.register_events(el);\n",
       "    }\n",
       "\n",
       "}\n",
       "\n",
       "mpl.figure.prototype._key_event_extra = function(event, name) {\n",
       "    var manager = IPython.notebook.keyboard_manager;\n",
       "    if (!manager)\n",
       "        manager = IPython.keyboard_manager;\n",
       "\n",
       "    // Check for shift+enter\n",
       "    if (event.shiftKey && event.which == 13) {\n",
       "        this.canvas_div.blur();\n",
       "        // select the cell after this one\n",
       "        var index = IPython.notebook.find_cell_index(this.cell_info[0]);\n",
       "        IPython.notebook.select(index + 1);\n",
       "    }\n",
       "}\n",
       "\n",
       "mpl.figure.prototype.handle_save = function(fig, msg) {\n",
       "    fig.ondownload(fig, null);\n",
       "}\n",
       "\n",
       "\n",
       "mpl.find_output_cell = function(html_output) {\n",
       "    // Return the cell and output element which can be found *uniquely* in the notebook.\n",
       "    // Note - this is a bit hacky, but it is done because the \"notebook_saving.Notebook\"\n",
       "    // IPython event is triggered only after the cells have been serialised, which for\n",
       "    // our purposes (turning an active figure into a static one), is too late.\n",
       "    var cells = IPython.notebook.get_cells();\n",
       "    var ncells = cells.length;\n",
       "    for (var i=0; i<ncells; i++) {\n",
       "        var cell = cells[i];\n",
       "        if (cell.cell_type === 'code'){\n",
       "            for (var j=0; j<cell.output_area.outputs.length; j++) {\n",
       "                var data = cell.output_area.outputs[j];\n",
       "                if (data.data) {\n",
       "                    // IPython >= 3 moved mimebundle to data attribute of output\n",
       "                    data = data.data;\n",
       "                }\n",
       "                if (data['text/html'] == html_output) {\n",
       "                    return [cell, data, j];\n",
       "                }\n",
       "            }\n",
       "        }\n",
       "    }\n",
       "}\n",
       "\n",
       "// Register the function which deals with the matplotlib target/channel.\n",
       "// The kernel may be null if the page has been refreshed.\n",
       "if (IPython.notebook.kernel != null) {\n",
       "    IPython.notebook.kernel.comm_manager.register_target('matplotlib', mpl.mpl_figure_comm);\n",
       "}\n"
      ],
      "text/plain": [
       "<IPython.core.display.Javascript object>"
      ]
     },
     "metadata": {},
     "output_type": "display_data"
    },
    {
     "data": {
      "text/html": [
       "<img src=\"data:image/png;base64,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\">"
      ],
      "text/plain": [
       "<IPython.core.display.HTML object>"
      ]
     },
     "metadata": {},
     "output_type": "display_data"
    },
    {
     "data": {
      "text/plain": [
       "<matplotlib.text.Text at 0x2a0fadadf98>"
      ]
     },
     "execution_count": 43,
     "metadata": {},
     "output_type": "execute_result"
    }
   ],
   "source": [
    "%matplotlib notebook\n",
    "import numpy as np\n",
    "import scipy as sp\n",
    "import matplotlib as mpl\n",
    "import matplotlib.cm as cm\n",
    "import matplotlib.pyplot as plt\n",
    "import pandas as pd\n",
    "import time\n",
    "pd.set_option('display.width', 400)\n",
    "pd.set_option('display.max_columns', 100)\n",
    "pd.set_option('display.notebook_repr_html', True)\n",
    "import seaborn as sns\n",
    "sns.set_style(\"whitegrid\")\n",
    "sns.set_context(\"poster\")\n",
    "from scipy.stats import expon\n",
    "x = np.linspace(0,4, 100)\n",
    "colors=sns.color_palette()\n",
    "\n",
    "f = lambda x, l: l*np.exp(-l*x)*(x>0)\n",
    "xpts=np.arange(-2,3,0.05)\n",
    "plt.plot(xpts,f(xpts, 2),'.');\n",
    "plt.xlabel(\"x\")\n",
    "plt.ylabel(\"exponential pdf\")"
   ]
  },
  {
   "cell_type": "code",
   "execution_count": null,
   "metadata": {
    "collapsed": true
   },
   "outputs": [],
   "source": []
  }
 ],
 "metadata": {
  "kernelspec": {
   "display_name": "Python [conda root]",
   "language": "python",
   "name": "conda-root-py"
  },
  "language_info": {
   "codemirror_mode": {
    "name": "ipython",
    "version": 3
   },
   "file_extension": ".py",
   "mimetype": "text/x-python",
   "name": "python",
   "nbconvert_exporter": "python",
   "pygments_lexer": "ipython3",
   "version": "3.5.2"
  }
 },
 "nbformat": 4,
 "nbformat_minor": 1
}
