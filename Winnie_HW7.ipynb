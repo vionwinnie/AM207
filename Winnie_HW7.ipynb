{
 "cells": [
  {
   "cell_type": "markdown",
   "metadata": {},
   "source": [
    "### Homework 7 - Full Bayes Parts - Winnie Yeung"
   ]
  },
  {
   "cell_type": "markdown",
   "metadata": {},
   "source": [
    "### Part B - Full Bayes "
   ]
  },
  {
   "cell_type": "markdown",
   "metadata": {},
   "source": [
    "$$ y_j \\sim Poisson(5 \\cdot n_j \\cdot \\theta_j), \\quad j = 1, \\ldots, N\\\\ $$\n",
    "\n",
    "$$\\theta_j \\sim Gamma(\\alpha, \\beta), \\quad j = 1, \\ldots, N $$\n",
    "\n",
    "$$p(y) = \\int p(y \\vert \\theta) p(\\theta) d \\theta$$.\n",
    "\n",
    "$$\\alpha \\sim Gamma(a, b)\\\\ $$\n",
    "$$\\beta \\sim Gamma(c, d)\\\\ $$\n",
    "\n"
   ]
  },
  {
   "cell_type": "markdown",
   "metadata": {},
   "source": [
    "Derive the follow full conditionals:\n",
    "\n",
    "$$\n",
    "p(\\theta_j  \\vert  y_j, \\mu, \\sigma) \\propto Gamma\\left(\\theta_j; y_j + \\alpha, \\beta + 5n_j\\right)\\\\ $$\n",
    "\n",
    "$$\n",
    "p(\\alpha, \\beta  \\vert  y_j, \\theta_j, \\sigma^2) \\propto \\prod_j\\theta_j^{\\alpha} \\exp\\left\\{ - \\beta\\sum_j \\theta_j \\right\\} * Gamma\\left(\\alpha; a, b \\right) * Gamma\\left(\\beta; c, d \\right) \\\\ $$\n"
   ]
  },
  {
   "cell_type": "markdown",
   "metadata": {},
   "source": [
    "## For the first one, $ p(\\theta_j  \\vert  y_j, \\mu, \\sigma) $ :"
   ]
  },
  {
   "cell_type": "markdown",
   "metadata": {},
   "source": [
    " $ p(\\theta_j  \\vert  y_j, \\mu, \\sigma)  = \\frac{(Prior)*(Likelihood)}{Evidence} $"
   ]
  },
  {
   "cell_type": "markdown",
   "metadata": {},
   "source": [
    "Where: \n",
    "\n",
    "Prior = $$\\theta_j \\sim Gamma(\\alpha, \\beta), \\quad j = 1, \\ldots, N $$\n",
    "Likelihood = $$ y_j \\sim Poisson(5 \\cdot n_j \\cdot \\theta_j), \\quad j = 1, \\ldots, N\\\\ $$\n",
    "Evidence = $$ Evidence \\sim NegBinom(\\alpha, \\frac {\\beta}{5n_j}), \\quad j = 1, \\ldots, N $$"
   ]
  },
  {
   "cell_type": "markdown",
   "metadata": {},
   "source": [
    "Substituting the Prior and Likelihood pdf into the  $ p(\\theta_j  \\vert  y_j, \\mu, \\sigma)$equation:"
   ]
  },
  {
   "cell_type": "markdown",
   "metadata": {},
   "source": [
    "$\n",
    " p(\\theta_j  \\vert  y_j, \\mu, \\sigma)=\\frac{1} {\\Gamma(\\alpha)} \\beta^{\\alpha} \\theta^{(\\alpha-1)} e^{-\\beta\\theta} * \\frac{1} {\\Gamma(y+1)} (5n_j\\theta_j)^y e^{-5n_j\\theta_j} * \\frac{1}{evidence}\n",
    "$"
   ]
  },
  {
   "cell_type": "markdown",
   "metadata": {},
   "source": [
    "$ Evidence =  \\binom{y + \\alpha - 1}{y} * ( 1 - \\frac{\\beta}{5n_j})^\\alpha * (\\frac {\\beta}{5n_j})^y $\n"
   ]
  },
  {
   "cell_type": "markdown",
   "metadata": {},
   "source": [
    "$ Evidence = \\frac{\\Gamma(y+\\alpha)} {\\Gamma(\\alpha)*\\Gamma(y+1)} * ( 1 - \\frac{\\beta}{5n_j})^\\alpha * (\\frac {\\beta}{5n_j})^y $"
   ]
  },
  {
   "cell_type": "markdown",
   "metadata": {},
   "source": [
    "Substitute Evidence into the $ p(\\theta_j  \\vert  y_j, \\mu, \\sigma)$ equation:"
   ]
  },
  {
   "cell_type": "markdown",
   "metadata": {},
   "source": [
    "$p(\\theta_j  \\vert  y_j, \\mu, \\sigma)=\n",
    "\\frac{1} {\\Gamma(\\alpha)} \\beta^{\\alpha} \\theta^{(\\alpha-1)} e^{-\\beta\\theta} * \\frac{1} {\\Gamma(y+1)} (5n_j\\theta_j)^y e^{-5n_j\\theta_j} * \\frac{\\Gamma(\\alpha)*\\Gamma(y+1)} {\\Gamma(y+\\alpha)}* ( 1 - \\frac{\\beta}{5n_j})^{-\\alpha} * (\\frac {\\beta}{5n_j})^{-y})\n",
    "$\n"
   ]
  },
  {
   "cell_type": "markdown",
   "metadata": {},
   "source": [
    "Rearranging the equation:"
   ]
  },
  {
   "cell_type": "markdown",
   "metadata": {},
   "source": [
    "$p(\\theta_j  \\vert  y_j, \\mu, \\sigma)=\n",
    "\\frac {1}{\\Gamma(y+\\alpha)} *e^{-\\theta(\\beta+5n_j)} * \\theta^{y_j+\\alpha - 1} * (\\beta + 5n_j)^{y_j +\\alpha} * \\left\\{ \\frac{\\beta^\\alpha * (5n_j)^y* (5n_j)^{y_j + \\alpha}} {(5n_j-\\beta)^\\alpha * \\beta^y} \\right\\}\n",
    "$"
   ]
  },
  {
   "cell_type": "markdown",
   "metadata": {},
   "source": [
    "Simplifying gives the following conditional:\n",
    "$$\n",
    "p(\\theta_j  \\vert  y_j, \\alpha, \\beta) \\propto Gamma\\left(\\theta_j; y_j + \\alpha, \\beta + 5n_j\\right)\\\\ $$\n"
   ]
  },
  {
   "cell_type": "markdown",
   "metadata": {},
   "source": [
    "## For the second full conditionals:"
   ]
  },
  {
   "cell_type": "markdown",
   "metadata": {},
   "source": [
    "\n",
    "\n",
    "We want to show this:\n",
    "\n",
    "$$\n",
    "p(\\alpha, \\beta  \\vert  y_j, \\theta_j, \\sigma^2) \\propto \\prod_j\\theta_j^{\\alpha} \\exp\\left\\{ - \\beta\\sum_j \\theta_j \\right\\} * Gamma\\left(\\alpha; a, b \\right) * Gamma\\left(\\beta; c, d \\right) \\\\ $$\n"
   ]
  },
  {
   "cell_type": "markdown",
   "metadata": {},
   "source": [
    "$$\n",
    "p(\\alpha, \\beta  \\vert  Y, \\Theta) =  \n",
    "\\frac {p(\\alpha, \\beta , \\Theta  \\vert Y)}{p(\\Theta \\vert Y)} $$"
   ]
  },
  {
   "cell_type": "markdown",
   "metadata": {},
   "source": [
    "$$\n",
    "p(\\alpha, \\beta  \\vert  y, \\theta) =  \n",
    "\\frac {p(\\alpha, \\beta , \\theta  \\vert y)}{p(\\theta \\vert y)} $$"
   ]
  },
  {
   "cell_type": "markdown",
   "metadata": {},
   "source": [
    "$$\n",
    "p(\\alpha, \\beta  \\vert  Y, \\Theta) =  \n",
    "\\prod_j \\frac {p(\\alpha, \\beta , \\theta_j  \\vert y_j)}{p(\\theta_j \\vert y_j)} $$"
   ]
  },
  {
   "cell_type": "markdown",
   "metadata": {},
   "source": [
    "$$\n",
    "p(\\alpha, \\beta  \\vert  Y, \\Theta) =  \n",
    "\\prod_j \\frac {p(\\theta_j  \\vert \\alpha, \\beta )*p(\\alpha)*p(\\beta)}{p(\\theta_j \\vert y_j)} $$"
   ]
  },
  {
   "cell_type": "markdown",
   "metadata": {},
   "source": [
    "$$\n",
    "p(\\alpha, \\beta  \\vert  Y, \\Theta) =  \n",
    "\\prod_j \\frac {p(\\theta_j  \\vert \\alpha, \\beta )*Gamma(\\alpha,a,b)*Gamma(\\beta,c,d)}{p(\\theta_j \\vert y_j)} $$"
   ]
  },
  {
   "cell_type": "markdown",
   "metadata": {},
   "source": [
    "We know that previously that:$$ p(\\theta_j  \\vert \\alpha, \\beta ) = \\theta_j^{\\alpha-1} \\beta^\\alpha \\exp\\left\\{-\\beta \\theta_j \\right\\} $$"
   ]
  },
  {
   "cell_type": "markdown",
   "metadata": {},
   "source": [
    "Substituting $ p(\\theta_j \\vert \\alpha , \\beta) $ into the $p(\\alpha, \\beta  \\vert  Y, \\Theta)$:"
   ]
  },
  {
   "cell_type": "markdown",
   "metadata": {},
   "source": [
    "$$\n",
    "p(\\alpha, \\beta  \\vert  Y, \\Theta) =  \n",
    "\\prod_j \\frac {\\theta_j^{\\alpha-1} \\beta^\\alpha \\exp\\left\\{-\\beta \\theta_j \\right\\}*Gamma(\\alpha,a,b)*Gamma(\\beta,c,d)}{p(\\theta_j \\vert y_j)} $$"
   ]
  },
  {
   "cell_type": "markdown",
   "metadata": {},
   "source": [
    "The problems im struggling to understand:\n",
    "\n",
    "1. How come it is $\\theta_j^\\alpha$ but not $\\theta_j^{\\alpha-1}$\n",
    "2. How does $\\exp\\left\\{-\\beta \\theta_i \\right\\}$ become $\\exp\\left\\{ - \\beta\\sum_j \\theta_j \\right\\}$?\n",
    "3. How do I handle this term: $p(\\theta_j \\vert y_j)$\n",
    "\n",
    "Am I missing other componenents in this conditionals?"
   ]
  },
  {
   "cell_type": "code",
   "execution_count": null,
   "metadata": {
    "collapsed": true
   },
   "outputs": [],
   "source": []
  }
 ],
 "metadata": {
  "kernelspec": {
   "display_name": "Python [conda root]",
   "language": "python",
   "name": "conda-root-py"
  },
  "language_info": {
   "codemirror_mode": {
    "name": "ipython",
    "version": 2
   },
   "file_extension": ".py",
   "mimetype": "text/x-python",
   "name": "python",
   "nbconvert_exporter": "python",
   "pygments_lexer": "ipython2",
   "version": "2.7.12"
  }
 },
 "nbformat": 4,
 "nbformat_minor": 1
}
